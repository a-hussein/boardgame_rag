{
 "cells": [
  {
   "cell_type": "code",
   "execution_count": 1,
   "id": "b4c94da4",
   "metadata": {},
   "outputs": [],
   "source": [
    "import boardgame_rag.index_build as index_build"
   ]
  },
  {
   "cell_type": "code",
   "execution_count": 11,
   "id": "6a627240",
   "metadata": {},
   "outputs": [],
   "source": [
    "import sys, pathlib\n",
    "sys.path.append(str(pathlib.Path().resolve() / \"src\"))\n"
   ]
  },
  {
   "cell_type": "code",
   "execution_count": 2,
   "id": "2440d801",
   "metadata": {},
   "outputs": [
    {
     "name": "stdout",
     "output_type": "stream",
     "text": [
      "cwd: /Users/ayman/Desktop/boardgame_rag/sandbox\n",
      "python: /Users/ayman/Desktop/boardgame_rag/.venv/bin/python\n"
     ]
    }
   ],
   "source": [
    "import os, pathlib, sys\n",
    "print(\"cwd:\", os.getcwd())              # ensure you’re at the project root\n",
    "print(\"python:\", sys.executable)   "
   ]
  },
  {
   "cell_type": "code",
   "execution_count": 10,
   "id": "bbe6a3b1",
   "metadata": {},
   "outputs": [],
   "source": [
    "import pickle, pathlib, numpy as np\n",
    "\n",
    "abs_path = pathlib.Path(\"/Users/ayman/Desktop/boardgame_rag/indices/bm25.pkl\")\n",
    "obj = pickle.loads(abs_path.read_bytes())"
   ]
  },
  {
   "cell_type": "code",
   "execution_count": 6,
   "id": "89cfad85",
   "metadata": {},
   "outputs": [
    {
     "name": "stdout",
     "output_type": "stream",
     "text": [
      "indices/bm25.pkl\n"
     ]
    }
   ],
   "source": [
    "p = pathlib.Path(\"indices\")\n",
    "print(p/\"bm25.pkl\")"
   ]
  },
  {
   "cell_type": "code",
   "execution_count": null,
   "id": "3312e0b0",
   "metadata": {},
   "outputs": [
    {
     "name": "stdout",
     "output_type": "stream",
     "text": [
      "BM25 top-5 doc_ids: ['G496', 'G492', 'G281', 'G043', 'G141']\n",
      "BM25 top-5 scores: [4.0601331742826785, 4.0601331742826785, 4.0601331742826785, 3.997655703103537, 2.590171820281613]\n"
     ]
    }
   ],
   "source": [
    "import pickle, pathlib, numpy as np\n",
    "# p = pathlib.Path(\"indices\") (notebook directory doesnt quite work like the .py example)\n",
    "# obj = pickle.loads((p/\"bm25.pkl\").read_bytes())\n",
    "abs_path = pathlib.Path(\"/Users/ayman/Desktop/boardgame_rag/indices/bm25.pkl\")\n",
    "obj = pickle.loads(abs_path.read_bytes())\n",
    "bm25 = obj[\"bm25\"]\n",
    "doc_ids = obj[\"doc_ids\"]\n",
    "\n",
    "query = \"dice trading\"\n",
    "q_toks = query.lower().split()\n",
    "scores = bm25.get_scores(q_toks)\n",
    "topk = np.argsort(scores)[-5:][::-1]\n",
    "print(\"BM25 top-5 doc_ids:\", [doc_ids[i] for i in topk])\n",
    "print(\"BM25 top-5 scores:\", [float(scores[i]) for i in topk])\n"
   ]
  },
  {
   "cell_type": "code",
   "execution_count": null,
   "id": "9f637588",
   "metadata": {},
   "outputs": [],
   "source": []
  }
 ],
 "metadata": {
  "kernelspec": {
   "display_name": "uv Python Notebook (boardgame_rag)",
   "language": "python",
   "name": "boardgame_rag"
  },
  "language_info": {
   "codemirror_mode": {
    "name": "ipython",
    "version": 3
   },
   "file_extension": ".py",
   "mimetype": "text/x-python",
   "name": "python",
   "nbconvert_exporter": "python",
   "pygments_lexer": "ipython3",
   "version": "3.11.7"
  }
 },
 "nbformat": 4,
 "nbformat_minor": 5
}
