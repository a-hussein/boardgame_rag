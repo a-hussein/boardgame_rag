{
 "cells": [
  {
   "cell_type": "code",
   "execution_count": null,
   "id": "b4c94da4",
   "metadata": {},
   "outputs": [],
   "source": [
    "import boardgame_rag.index_build as index_build"
   ]
  },
  {
   "cell_type": "code",
   "execution_count": 11,
   "id": "6a627240",
   "metadata": {},
   "outputs": [],
   "source": [
    "import sys, pathlib\n",
    "sys.path.append(str(pathlib.Path().resolve() / \"src\"))\n"
   ]
  },
  {
   "cell_type": "code",
   "execution_count": 2,
   "id": "2440d801",
   "metadata": {},
   "outputs": [
    {
     "name": "stdout",
     "output_type": "stream",
     "text": [
      "cwd: /Users/ayman/Desktop/boardgame_rag/sandbox\n",
      "python: /Users/ayman/Desktop/boardgame_rag/.venv/bin/python\n"
     ]
    }
   ],
   "source": [
    "import os, pathlib, sys\n",
    "print(\"cwd:\", os.getcwd())              # ensure you’re at the project root\n",
    "print(\"python:\", sys.executable)   "
   ]
  },
  {
   "cell_type": "code",
   "execution_count": 10,
   "id": "bbe6a3b1",
   "metadata": {},
   "outputs": [],
   "source": [
    "import pickle, pathlib, numpy as np\n",
    "\n",
    "abs_path = pathlib.Path(\"/Users/ayman/Desktop/boardgame_rag/indices/bm25.pkl\")\n",
    "obj = pickle.loads(abs_path.read_bytes())"
   ]
  },
  {
   "cell_type": "code",
   "execution_count": 6,
   "id": "89cfad85",
   "metadata": {},
   "outputs": [
    {
     "name": "stdout",
     "output_type": "stream",
     "text": [
      "indices/bm25.pkl\n"
     ]
    }
   ],
   "source": [
    "p = pathlib.Path(\"indices\")\n",
    "print(p/\"bm25.pkl\")"
   ]
  },
  {
   "cell_type": "code",
   "execution_count": null,
   "id": "3312e0b0",
   "metadata": {},
   "outputs": [
    {
     "name": "stdout",
     "output_type": "stream",
     "text": [
      "BM25 top-5 doc_ids: ['G496', 'G492', 'G281', 'G043', 'G141']\n",
      "BM25 top-5 scores: [4.0601331742826785, 4.0601331742826785, 4.0601331742826785, 3.997655703103537, 2.590171820281613]\n"
     ]
    }
   ],
   "source": [
    "import pickle, pathlib, numpy as np\n",
    "# p = pathlib.Path(\"indices\") (notebook directory doesnt quite work like the .py example)\n",
    "# obj = pickle.loads((p/\"bm25.pkl\").read_bytes())\n",
    "abs_path = pathlib.Path(\"/Users/ayman/Desktop/boardgame_rag/indices/bm25.pkl\")\n",
    "obj = pickle.loads(abs_path.read_bytes())\n",
    "bm25 = obj[\"bm25\"]\n",
    "doc_ids = obj[\"doc_ids\"]\n",
    "\n",
    "query = \"dice trading\"\n",
    "q_toks = query.lower().split()\n",
    "scores = bm25.get_scores(q_toks)\n",
    "topk = np.argsort(scores)[-5:][::-1]\n",
    "print(\"BM25 top-5 doc_ids:\", [doc_ids[i] for i in topk])\n",
    "print(\"BM25 top-5 scores:\", [float(scores[i]) for i in topk])\n"
   ]
  },
  {
   "cell_type": "markdown",
   "id": "c597385b",
   "metadata": {},
   "source": [
    "_______________________"
   ]
  },
  {
   "cell_type": "markdown",
   "id": "4d6684db",
   "metadata": {
    "vscode": {
     "languageId": "bat"
    }
   },
   "source": [
    "# exploring cbm25 vs faiss values"
   ]
  },
  {
   "cell_type": "code",
   "execution_count": 23,
   "id": "b50edf0d",
   "metadata": {},
   "outputs": [
    {
     "name": "stdout",
     "output_type": "stream",
     "text": [
      "10 rarest tokens (appear in fewest docs):\n",
      "pandemic        → 1 docs  (IDF=2.85)\n",
      "1               → 1 docs  (IDF=1.78)\n",
      "blends          → 1 docs  (IDF=0.44)\n",
      "worker          → 1 docs  (IDF=2.06)\n",
      "placement,      → 1 docs  (IDF=2.46)\n",
      "drafting        → 1 docs  (IDF=2.89)\n",
      "within          → 1 docs  (IDF=0.44)\n",
      "a               → 1 docs  (IDF=0.44)\n",
      "cooperative     → 1 docs  (IDF=2.33)\n",
      "frame.          → 1 docs  (IDF=0.44)\n",
      "\n",
      "10 most common tokens (appear in most docs):\n",
      "around          → 1 docs  (IDF=0.44)\n",
      "45              → 1 docs  (IDF=1.62)\n",
      "minutes.        → 1 docs  (IDF=0.44)\n",
      "actions         → 1 docs  (IDF=1.83)\n",
      "are             → 1 docs  (IDF=1.83)\n",
      "scarce;         → 1 docs  (IDF=1.83)\n",
      "turn            → 1 docs  (IDF=1.83)\n",
      "order           → 1 docs  (IDF=1.83)\n",
      "tension         → 1 docs  (IDF=1.83)\n",
      "matters         → 1 docs  (IDF=1.83)\n"
     ]
    }
   ],
   "source": [
    "import pickle\n",
    "from pathlib import Path\n",
    "\n",
    "with open(\"../indices/bm25.pkl\", \"rb\") as f:\n",
    "    obj = pickle.load(f)\n",
    "bm25 = obj[\"bm25\"]\n",
    "\n",
    "idf = bm25.idf \n",
    "# sort by how many docs each token appears in\n",
    "by_freq = sorted(bm25.doc_freqs[1].items(), key=lambda x: x[1])\n",
    "print(\"10 rarest tokens (appear in fewest docs):\")\n",
    "for term, freq in by_freq[:10]:\n",
    "    print(f\"{term:<15} → {freq} docs  (IDF={idf[term]:.2f})\")\n",
    "\n",
    "print(\"\\n10 most common tokens (appear in most docs):\")\n",
    "for term, freq in by_freq[-10:]:\n",
    "    print(f\"{term:<15} → {freq} docs  (IDF={idf[term]:.2f})\")\n"
   ]
  },
  {
   "cell_type": "code",
   "execution_count": null,
   "id": "638f860a",
   "metadata": {},
   "outputs": [
    {
     "name": "stdout",
     "output_type": "stream",
     "text": [
      "BM25 top docs:\n",
      "G447  score=4.946\n",
      "G063  score=4.859\n",
      "G244  score=4.775\n",
      "G424  score=4.328\n",
      "G250  score=4.328\n",
      "\n",
      "FAISS (vector) top docs:\n",
      "G422  sim=0.634\n",
      "G061  sim=0.630\n",
      "G463  sim=0.611\n",
      "G278  sim=0.608\n",
      "G073  sim=0.590\n"
     ]
    }
   ],
   "source": [
    "import pickle, faiss, numpy as np\n",
    "from sentence_transformers import SentenceTransformer\n",
    "\n",
    "# BM25\n",
    "with open(\"../indices/bm25.pkl\", \"rb\") as f:\n",
    "    obj = pickle.load(f)\n",
    "bm25, doc_ids = obj[\"bm25\"], obj[\"doc_ids\"]\n",
    "\n",
    "# FAISS\n",
    "index = faiss.read_index(\"../indices/faiss.index\")\n",
    "with open(\"../indices/faiss_meta.pkl\", \"rb\") as f:\n",
    "    meta = pickle.load(f)\n",
    "embedder = SentenceTransformer(meta[\"model\"])\n",
    "\n",
    "query = \"deck building games under 45 minutes\"\n",
    "\n",
    "bm_scores = bm25.get_scores(query.lower().split())\n",
    "top_bm = np.argsort(bm_scores)[::-1][:5]\n",
    "\n",
    "query_vec = embedder.encode([query])\n",
    "faiss.normalize_L2(query_vec)\n",
    "sims, idxs = index.search(query_vec.astype(np.float32), 5)\n",
    "top_vec = idxs[0]; sims = sims[0]\n",
    "\n",
    "print(\"BM25 top docs:\")\n",
    "for i in top_bm:\n",
    "    print(f\"{doc_ids[i]}  score={bm_scores[i]:.3f}\")\n",
    "\n",
    "print(\"\\nFAISS (vector) top docs:\")\n",
    "for i, s in zip(top_vec, sims):\n",
    "    print(f\"{doc_ids[i]}  sim={s:.3f}\")\n",
    "\n"
   ]
  },
  {
   "cell_type": "markdown",
   "id": "57fd3365",
   "metadata": {},
   "source": [
    "# peaking into faiss"
   ]
  },
  {
   "cell_type": "code",
   "execution_count": 41,
   "id": "c467bd2e",
   "metadata": {},
   "outputs": [
    {
     "name": "stdout",
     "output_type": "stream",
     "text": [
      "dict_keys(['doc_ids', 'model'])\n",
      "Model: sentence-transformers/all-MiniLM-L6-v2\n",
      "First 5 doc_ids: ['G000', 'G001', 'G002', 'G003', 'G004']\n",
      "Total docs: 500\n"
     ]
    }
   ],
   "source": [
    "import pickle\n",
    "with open(\"../indices/faiss_meta.pkl\", \"rb\") as f:\n",
    "    meta = pickle.load(f)\n",
    "print(meta.keys())\n",
    "print(\"Model:\", meta[\"model\"])\n",
    "print(\"First 5 doc_ids:\", meta[\"doc_ids\"][:5])\n",
    "print(\"Total docs:\", len(meta[\"doc_ids\"]))"
   ]
  },
  {
   "cell_type": "code",
   "execution_count": 44,
   "id": "c267e6df",
   "metadata": {},
   "outputs": [
    {
     "name": "stdout",
     "output_type": "stream",
     "text": [
      "Index type: <class 'faiss.swigfaiss.IndexFlatIP'>\n",
      "Vectors stored: 500\n",
      "dim: (384,) sample: [-0.01303484 -0.00710506  0.01056533  0.02435474 -0.05928582  0.02253141\n",
      " -0.06277668  0.03914481 -0.08805666 -0.02986085]\n",
      "batch shape: (5, 384)\n"
     ]
    }
   ],
   "source": [
    "import faiss\n",
    "import numpy as np\n",
    "\n",
    "index = faiss.read_index(\"../indices/faiss.index\")\n",
    "print(\"Index type:\", type(index))\n",
    "print(\"Vectors stored:\", index.ntotal)\n",
    "\n",
    "# First vector:\n",
    "v0 = index.reconstruct(0)         # shape (d,)\n",
    "print(\"dim:\", v0.shape, \"sample:\", v0[:10])\n",
    "\n",
    "# First 5 vectors:\n",
    "v5 = index.reconstruct_n(0, 5)    # shape (5, d)\n",
    "print(\"batch shape:\", v5.shape)\n",
    "\n",
    "\n",
    "\n"
   ]
  },
  {
   "cell_type": "code",
   "execution_count": 47,
   "id": "24173d50",
   "metadata": {},
   "outputs": [
    {
     "data": {
      "text/plain": [
       "array([[-0.01303484, -0.00710506,  0.01056533, ...,  0.02319394,\n",
       "        -0.03680485,  0.07563792],\n",
       "       [ 0.00870815, -0.04122691,  0.0200754 , ..., -0.08355469,\n",
       "        -0.08820572,  0.07077812],\n",
       "       [ 0.02140957, -0.01016314,  0.02196506, ..., -0.01133927,\n",
       "        -0.06008958,  0.05124512],\n",
       "       [-0.0026161 , -0.00440962, -0.04676261, ...,  0.00977282,\n",
       "         0.02119232,  0.05478996],\n",
       "       [ 0.0088317 ,  0.0677369 ,  0.00347244, ..., -0.08001143,\n",
       "        -0.11992447,  0.03989131]], shape=(5, 384), dtype=float32)"
      ]
     },
     "execution_count": 47,
     "metadata": {},
     "output_type": "execute_result"
    }
   ],
   "source": [
    "v5"
   ]
  },
  {
   "cell_type": "code",
   "execution_count": null,
   "id": "889c1f6e",
   "metadata": {},
   "outputs": [],
   "source": []
  }
 ],
 "metadata": {
  "kernelspec": {
   "display_name": "uv Python Notebook (boardgame_rag)",
   "language": "python",
   "name": "boardgame_rag"
  },
  "language_info": {
   "codemirror_mode": {
    "name": "ipython",
    "version": 3
   },
   "file_extension": ".py",
   "mimetype": "text/x-python",
   "name": "python",
   "nbconvert_exporter": "python",
   "pygments_lexer": "ipython3",
   "version": "3.11.7"
  }
 },
 "nbformat": 4,
 "nbformat_minor": 5
}
