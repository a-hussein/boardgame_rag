{
 "cells": [
  {
   "cell_type": "code",
   "execution_count": null,
   "metadata": {},
   "outputs": [],
   "source": [
    "from boardgame_rag.data_gen import _rand_text"
   ]
  },
  {
   "cell_type": "code",
   "execution_count": null,
   "metadata": {},
   "outputs": [],
   "source": [
    "print(\n",
    "    _rand_text(\n",
    "        name=\"Catan\", \n",
    "        mechs=[\"Deck Building\",\"Area Control\",\"Worker Placement\"], \n",
    "        cats=[\"Economic\",\"Card Game\",\"Eurogame\"], \n",
    "        weight=2.1,\n",
    "        t=45\n",
    "    )\n",
    ")\n"
   ]
  }
 ],
 "metadata": {
  "language_info": {
   "name": "python"
  }
 },
 "nbformat": 4,
 "nbformat_minor": 2
}
