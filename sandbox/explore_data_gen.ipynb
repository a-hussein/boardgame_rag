{
 "cells": [
  {
   "cell_type": "code",
   "execution_count": 44,
   "metadata": {},
   "outputs": [],
   "source": [
    "from boardgame_rag.data_gen import _rand_text"
   ]
  },
  {
   "cell_type": "code",
   "execution_count": 45,
   "metadata": {},
   "outputs": [
    {
     "name": "stdout",
     "output_type": "stream",
     "text": [
      "Catan blends Deck Building, Area Control within a economic frame. Typical weight 2.1; play time around 45 minutes. players construct engines from a shared market actions are scarce; turn order tension matters\n"
     ]
    }
   ],
   "source": [
    "print(\n",
    "    _rand_text(\n",
    "        name=\"Catan\", \n",
    "        mechs=[\"Deck Building\",\"Area Control\",\"Worker Placement\"], \n",
    "        cats=[\"Economic\",\"Card Game\",\"Eurogame\"], \n",
    "        weight=2.1,\n",
    "        t=45\n",
    "    )\n",
    ")\n"
   ]
  },
  {
   "cell_type": "code",
   "execution_count": 46,
   "metadata": {},
   "outputs": [],
   "source": [
    "import pandas as pd\n",
    "df_parquet = pd.read_parquet(\"../data/processed/corpus.parquet\")"
   ]
  },
  {
   "cell_type": "code",
   "execution_count": 47,
   "metadata": {},
   "outputs": [
    {
     "data": {
      "text/html": [
       "<div>\n",
       "<style scoped>\n",
       "    .dataframe tbody tr th:only-of-type {\n",
       "        vertical-align: middle;\n",
       "    }\n",
       "\n",
       "    .dataframe tbody tr th {\n",
       "        vertical-align: top;\n",
       "    }\n",
       "\n",
       "    .dataframe thead th {\n",
       "        text-align: right;\n",
       "    }\n",
       "</style>\n",
       "<table border=\"1\" class=\"dataframe\">\n",
       "  <thead>\n",
       "    <tr style=\"text-align: right;\">\n",
       "      <th></th>\n",
       "      <th>doc_id</th>\n",
       "      <th>name</th>\n",
       "      <th>year</th>\n",
       "      <th>players_min</th>\n",
       "      <th>players_max</th>\n",
       "      <th>play_time</th>\n",
       "      <th>weight</th>\n",
       "      <th>mechanics</th>\n",
       "      <th>categories</th>\n",
       "      <th>text</th>\n",
       "      <th>mechanics_flat</th>\n",
       "      <th>categories_flat</th>\n",
       "    </tr>\n",
       "  </thead>\n",
       "  <tbody>\n",
       "    <tr>\n",
       "      <th>0</th>\n",
       "      <td>G000</td>\n",
       "      <td>Eldorado</td>\n",
       "      <td>2000</td>\n",
       "      <td>4</td>\n",
       "      <td>6</td>\n",
       "      <td>30</td>\n",
       "      <td>2.5</td>\n",
       "      <td>[Push Your Luck, Deck Building]</td>\n",
       "      <td>[Ameritrash]</td>\n",
       "      <td>Eldorado blends Push Your Luck, Deck Building ...</td>\n",
       "      <td>[push your luck, deck building]</td>\n",
       "      <td>[ameritrash]</td>\n",
       "    </tr>\n",
       "    <tr>\n",
       "      <th>1</th>\n",
       "      <td>G001</td>\n",
       "      <td>Ticket to Ride 1</td>\n",
       "      <td>1990</td>\n",
       "      <td>3</td>\n",
       "      <td>4</td>\n",
       "      <td>45</td>\n",
       "      <td>3.6</td>\n",
       "      <td>[Worker Placement, Drafting]</td>\n",
       "      <td>[Party, Eurogame]</td>\n",
       "      <td>Ticket to Ride 1 blends Worker Placement, Draf...</td>\n",
       "      <td>[worker placement, drafting]</td>\n",
       "      <td>[party, eurogame]</td>\n",
       "    </tr>\n",
       "    <tr>\n",
       "      <th>2</th>\n",
       "      <td>G002</td>\n",
       "      <td>Carcassonne 2</td>\n",
       "      <td>2015</td>\n",
       "      <td>2</td>\n",
       "      <td>4</td>\n",
       "      <td>90</td>\n",
       "      <td>1.7</td>\n",
       "      <td>[Route Building, Drafting, Engine Building]</td>\n",
       "      <td>[Eurogame]</td>\n",
       "      <td>Carcassonne 2 blends Route Building, Drafting ...</td>\n",
       "      <td>[route building, drafting, engine building]</td>\n",
       "      <td>[eurogame]</td>\n",
       "    </tr>\n",
       "    <tr>\n",
       "      <th>3</th>\n",
       "      <td>G003</td>\n",
       "      <td>Dominion 3</td>\n",
       "      <td>2010</td>\n",
       "      <td>3</td>\n",
       "      <td>5</td>\n",
       "      <td>35</td>\n",
       "      <td>2.0</td>\n",
       "      <td>[Deck Building, Route Building, Negotiation]</td>\n",
       "      <td>[Thematic, Party]</td>\n",
       "      <td>Dominion 3 blends Deck Building, Route Buildin...</td>\n",
       "      <td>[deck building, route building, negotiation]</td>\n",
       "      <td>[thematic, party]</td>\n",
       "    </tr>\n",
       "    <tr>\n",
       "      <th>4</th>\n",
       "      <td>G004</td>\n",
       "      <td>Air Land Sea 4</td>\n",
       "      <td>2010</td>\n",
       "      <td>2</td>\n",
       "      <td>4</td>\n",
       "      <td>90</td>\n",
       "      <td>1.6</td>\n",
       "      <td>[Negotiation]</td>\n",
       "      <td>[Card Game]</td>\n",
       "      <td>Air Land Sea 4 blends Negotiation within a car...</td>\n",
       "      <td>[negotiation]</td>\n",
       "      <td>[card game]</td>\n",
       "    </tr>\n",
       "  </tbody>\n",
       "</table>\n",
       "</div>"
      ],
      "text/plain": [
       "  doc_id              name  year  players_min  players_max  play_time  weight  \\\n",
       "0   G000          Eldorado  2000            4            6         30     2.5   \n",
       "1   G001  Ticket to Ride 1  1990            3            4         45     3.6   \n",
       "2   G002     Carcassonne 2  2015            2            4         90     1.7   \n",
       "3   G003        Dominion 3  2010            3            5         35     2.0   \n",
       "4   G004    Air Land Sea 4  2010            2            4         90     1.6   \n",
       "\n",
       "                                      mechanics         categories  \\\n",
       "0               [Push Your Luck, Deck Building]       [Ameritrash]   \n",
       "1                  [Worker Placement, Drafting]  [Party, Eurogame]   \n",
       "2   [Route Building, Drafting, Engine Building]         [Eurogame]   \n",
       "3  [Deck Building, Route Building, Negotiation]  [Thematic, Party]   \n",
       "4                                 [Negotiation]        [Card Game]   \n",
       "\n",
       "                                                text  \\\n",
       "0  Eldorado blends Push Your Luck, Deck Building ...   \n",
       "1  Ticket to Ride 1 blends Worker Placement, Draf...   \n",
       "2  Carcassonne 2 blends Route Building, Drafting ...   \n",
       "3  Dominion 3 blends Deck Building, Route Buildin...   \n",
       "4  Air Land Sea 4 blends Negotiation within a car...   \n",
       "\n",
       "                                 mechanics_flat    categories_flat  \n",
       "0               [push your luck, deck building]       [ameritrash]  \n",
       "1                  [worker placement, drafting]  [party, eurogame]  \n",
       "2   [route building, drafting, engine building]         [eurogame]  \n",
       "3  [deck building, route building, negotiation]  [thematic, party]  \n",
       "4                                 [negotiation]        [card game]  "
      ]
     },
     "execution_count": 47,
     "metadata": {},
     "output_type": "execute_result"
    }
   ],
   "source": [
    "df_parquet.head()"
   ]
  },
  {
   "cell_type": "code",
   "execution_count": null,
   "metadata": {},
   "outputs": [
    {
     "name": "stdout",
     "output_type": "stream",
     "text": [
      "  doc_id              name  year  players_min  players_max  play_time  weight  \\\n",
      "0   G000          Eldorado  2000            4            6         30     2.5   \n",
      "1   G001  Ticket to Ride 1  1990            3            4         45     3.6   \n",
      "2   G002     Carcassonne 2  2015            2            4         90     1.7   \n",
      "3   G003        Dominion 3  2010            3            5         35     2.0   \n",
      "4   G004    Air Land Sea 4  2010            2            4         90     1.6   \n",
      "\n",
      "                                      mechanics         categories  \\\n",
      "0               [Push Your Luck, Deck Building]       [Ameritrash]   \n",
      "1                  [Worker Placement, Drafting]  [Party, Eurogame]   \n",
      "2   [Route Building, Drafting, Engine Building]         [Eurogame]   \n",
      "3  [Deck Building, Route Building, Negotiation]  [Thematic, Party]   \n",
      "4                                 [Negotiation]        [Card Game]   \n",
      "\n",
      "                                                text  \n",
      "0  Eldorado blends Push Your Luck, Deck Building ...  \n",
      "1  Ticket to Ride 1 blends Worker Placement, Draf...  \n",
      "2  Carcassonne 2 blends Route Building, Drafting ...  \n",
      "3  Dominion 3 blends Deck Building, Route Buildin...  \n",
      "4  Air Land Sea 4 blends Negotiation within a car...  \n"
     ]
    }
   ],
   "source": [
    "\n",
    "df_json = pd.read_json(\"../data/raw/corpus.jsonl\", lines=True)\n",
    "print(df_json.head())\n"
   ]
  },
  {
   "cell_type": "code",
   "execution_count": 36,
   "metadata": {},
   "outputs": [],
   "source": [
    "import random\n",
    "rng = random.Random(\"G001\")"
   ]
  },
  {
   "cell_type": "code",
   "execution_count": 37,
   "metadata": {},
   "outputs": [],
   "source": [
    "pmin, pmax = rng.choice([(2,4),(2,5),(3,4),(3,5),(4,6)])"
   ]
  },
  {
   "cell_type": "code",
   "execution_count": 38,
   "metadata": {},
   "outputs": [
    {
     "data": {
      "text/plain": [
       "(4, 6)"
      ]
     },
     "execution_count": 38,
     "metadata": {},
     "output_type": "execute_result"
    }
   ],
   "source": [
    "pmin, pmax"
   ]
  },
  {
   "cell_type": "code",
   "execution_count": 39,
   "metadata": {},
   "outputs": [],
   "source": [
    "r1 = random.Random(\"hello\")"
   ]
  },
  {
   "cell_type": "code",
   "execution_count": 40,
   "metadata": {},
   "outputs": [
    {
     "data": {
      "text/plain": [
       "<random.Random at 0x1069dce20>"
      ]
     },
     "execution_count": 40,
     "metadata": {},
     "output_type": "execute_result"
    }
   ],
   "source": [
    "r1"
   ]
  },
  {
   "cell_type": "code",
   "execution_count": 43,
   "metadata": {},
   "outputs": [
    {
     "data": {
      "text/plain": [
       "<random.Random at 0x1292d6c20>"
      ]
     },
     "execution_count": 43,
     "metadata": {},
     "output_type": "execute_result"
    }
   ],
   "source": [
    "random.Random()\n"
   ]
  },
  {
   "cell_type": "code",
   "execution_count": null,
   "metadata": {},
   "outputs": [],
   "source": []
  }
 ],
 "metadata": {
  "kernelspec": {
   "display_name": "uv Python Notebook (boardgame_rag)",
   "language": "python",
   "name": "boardgame_rag"
  },
  "language_info": {
   "codemirror_mode": {
    "name": "ipython",
    "version": 3
   },
   "file_extension": ".py",
   "mimetype": "text/x-python",
   "name": "python",
   "nbconvert_exporter": "python",
   "pygments_lexer": "ipython3",
   "version": "3.11.7"
  }
 },
 "nbformat": 4,
 "nbformat_minor": 2
}
